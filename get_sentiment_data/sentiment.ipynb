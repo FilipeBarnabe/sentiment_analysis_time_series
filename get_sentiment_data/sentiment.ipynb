{
 "cells": [
  {
   "cell_type": "code",
   "execution_count": 1,
   "metadata": {},
   "outputs": [],
   "source": [
    "import numpy as np\n",
    "import pandas as pd \n",
    "import re\n",
    "import matplotlib.pyplot as plt\n",
    "from textblob import TextBlob"
   ]
  },
  {
   "cell_type": "code",
   "execution_count": 2,
   "metadata": {},
   "outputs": [
    {
     "name": "stdout",
     "output_type": "stream",
     "text": [
      "INFO: Pandarallel will run on 8 workers.\n",
      "INFO: Pandarallel will use standard multiprocessing data transfer (pipe) to transfer data between the main process and workers.\n"
     ]
    }
   ],
   "source": [
    "from pandarallel import pandarallel\n",
    "\n",
    "pandarallel.initialize(progress_bar=True)"
   ]
  },
  {
   "cell_type": "code",
   "execution_count": 3,
   "metadata": {},
   "outputs": [
    {
     "data": {
      "text/html": [
       "<div>\n",
       "<style scoped>\n",
       "    .dataframe tbody tr th:only-of-type {\n",
       "        vertical-align: middle;\n",
       "    }\n",
       "\n",
       "    .dataframe tbody tr th {\n",
       "        vertical-align: top;\n",
       "    }\n",
       "\n",
       "    .dataframe thead th {\n",
       "        text-align: right;\n",
       "    }\n",
       "</style>\n",
       "<table border=\"1\" class=\"dataframe\">\n",
       "  <thead>\n",
       "    <tr style=\"text-align: right;\">\n",
       "      <th></th>\n",
       "      <th>tweet_id</th>\n",
       "      <th>writer</th>\n",
       "      <th>post_date</th>\n",
       "      <th>body</th>\n",
       "      <th>comment_num</th>\n",
       "      <th>retweet_num</th>\n",
       "      <th>like_num</th>\n",
       "    </tr>\n",
       "  </thead>\n",
       "  <tbody>\n",
       "    <tr>\n",
       "      <th>0</th>\n",
       "      <td>550441509175443456</td>\n",
       "      <td>VisualStockRSRC</td>\n",
       "      <td>1420070457</td>\n",
       "      <td>lx21 made $10,008  on $AAPL -Check it out! htt...</td>\n",
       "      <td>0</td>\n",
       "      <td>0</td>\n",
       "      <td>1</td>\n",
       "    </tr>\n",
       "    <tr>\n",
       "      <th>1</th>\n",
       "      <td>550441672312512512</td>\n",
       "      <td>KeralaGuy77</td>\n",
       "      <td>1420070496</td>\n",
       "      <td>Insanity of today weirdo massive selling. $aap...</td>\n",
       "      <td>0</td>\n",
       "      <td>0</td>\n",
       "      <td>0</td>\n",
       "    </tr>\n",
       "    <tr>\n",
       "      <th>2</th>\n",
       "      <td>550441732014223360</td>\n",
       "      <td>DozenStocks</td>\n",
       "      <td>1420070510</td>\n",
       "      <td>S&amp;P100 #Stocks Performance $HD $LOW $SBUX $TGT...</td>\n",
       "      <td>0</td>\n",
       "      <td>0</td>\n",
       "      <td>0</td>\n",
       "    </tr>\n",
       "    <tr>\n",
       "      <th>3</th>\n",
       "      <td>550442977802207232</td>\n",
       "      <td>ShowDreamCar</td>\n",
       "      <td>1420070807</td>\n",
       "      <td>$GM $TSLA: Volkswagen Pushes 2014 Record Recal...</td>\n",
       "      <td>0</td>\n",
       "      <td>0</td>\n",
       "      <td>1</td>\n",
       "    </tr>\n",
       "    <tr>\n",
       "      <th>4</th>\n",
       "      <td>550443807834402816</td>\n",
       "      <td>i_Know_First</td>\n",
       "      <td>1420071005</td>\n",
       "      <td>Swing Trading: Up To 8.91% Return In 14 Days h...</td>\n",
       "      <td>0</td>\n",
       "      <td>0</td>\n",
       "      <td>1</td>\n",
       "    </tr>\n",
       "    <tr>\n",
       "      <th>5</th>\n",
       "      <td>550443808606126081</td>\n",
       "      <td>aaplstocknews</td>\n",
       "      <td>1420071005</td>\n",
       "      <td>Swing Trading: Up To 8.91% Return In 14 Days h...</td>\n",
       "      <td>0</td>\n",
       "      <td>0</td>\n",
       "      <td>1</td>\n",
       "    </tr>\n",
       "    <tr>\n",
       "      <th>6</th>\n",
       "      <td>550443809700851716</td>\n",
       "      <td>iknowfirst</td>\n",
       "      <td>1420071005</td>\n",
       "      <td>Swing Trading: Up To 8.91% Return In 14 Days h...</td>\n",
       "      <td>0</td>\n",
       "      <td>0</td>\n",
       "      <td>1</td>\n",
       "    </tr>\n",
       "    <tr>\n",
       "      <th>7</th>\n",
       "      <td>550443857142611968</td>\n",
       "      <td>Cprediction</td>\n",
       "      <td>1420071016</td>\n",
       "      <td>Swing Trading: Up To 8.91% Return In 14 Days h...</td>\n",
       "      <td>0</td>\n",
       "      <td>0</td>\n",
       "      <td>1</td>\n",
       "    </tr>\n",
       "    <tr>\n",
       "      <th>8</th>\n",
       "      <td>550443857595600896</td>\n",
       "      <td>iknowfirst_br</td>\n",
       "      <td>1420071017</td>\n",
       "      <td>Swing Trading: Up To 8.91% Return In 14 Days h...</td>\n",
       "      <td>0</td>\n",
       "      <td>0</td>\n",
       "      <td>1</td>\n",
       "    </tr>\n",
       "    <tr>\n",
       "      <th>9</th>\n",
       "      <td>550443857692078081</td>\n",
       "      <td>Gold_prediction</td>\n",
       "      <td>1420071017</td>\n",
       "      <td>Swing Trading: Up To 8.91% Return In 14 Days h...</td>\n",
       "      <td>0</td>\n",
       "      <td>0</td>\n",
       "      <td>1</td>\n",
       "    </tr>\n",
       "  </tbody>\n",
       "</table>\n",
       "</div>"
      ],
      "text/plain": [
       "             tweet_id           writer   post_date  \\\n",
       "0  550441509175443456  VisualStockRSRC  1420070457   \n",
       "1  550441672312512512      KeralaGuy77  1420070496   \n",
       "2  550441732014223360      DozenStocks  1420070510   \n",
       "3  550442977802207232     ShowDreamCar  1420070807   \n",
       "4  550443807834402816     i_Know_First  1420071005   \n",
       "5  550443808606126081    aaplstocknews  1420071005   \n",
       "6  550443809700851716       iknowfirst  1420071005   \n",
       "7  550443857142611968      Cprediction  1420071016   \n",
       "8  550443857595600896    iknowfirst_br  1420071017   \n",
       "9  550443857692078081  Gold_prediction  1420071017   \n",
       "\n",
       "                                                body  comment_num  \\\n",
       "0  lx21 made $10,008  on $AAPL -Check it out! htt...            0   \n",
       "1  Insanity of today weirdo massive selling. $aap...            0   \n",
       "2  S&P100 #Stocks Performance $HD $LOW $SBUX $TGT...            0   \n",
       "3  $GM $TSLA: Volkswagen Pushes 2014 Record Recal...            0   \n",
       "4  Swing Trading: Up To 8.91% Return In 14 Days h...            0   \n",
       "5  Swing Trading: Up To 8.91% Return In 14 Days h...            0   \n",
       "6  Swing Trading: Up To 8.91% Return In 14 Days h...            0   \n",
       "7  Swing Trading: Up To 8.91% Return In 14 Days h...            0   \n",
       "8  Swing Trading: Up To 8.91% Return In 14 Days h...            0   \n",
       "9  Swing Trading: Up To 8.91% Return In 14 Days h...            0   \n",
       "\n",
       "   retweet_num  like_num  \n",
       "0            0         1  \n",
       "1            0         0  \n",
       "2            0         0  \n",
       "3            0         1  \n",
       "4            0         1  \n",
       "5            0         1  \n",
       "6            0         1  \n",
       "7            0         1  \n",
       "8            0         1  \n",
       "9            0         1  "
      ]
     },
     "execution_count": 3,
     "metadata": {},
     "output_type": "execute_result"
    }
   ],
   "source": [
    "df = pd.read_csv(\"../data/Tweet.csv\")\n",
    "df.head(10)"
   ]
  },
  {
   "cell_type": "code",
   "execution_count": 4,
   "metadata": {},
   "outputs": [
    {
     "data": {
      "text/plain": [
       "3717964"
      ]
     },
     "execution_count": 4,
     "metadata": {},
     "output_type": "execute_result"
    }
   ],
   "source": [
    "len(df)"
   ]
  },
  {
   "cell_type": "code",
   "execution_count": 5,
   "metadata": {},
   "outputs": [],
   "source": [
    "df = df[[\"body\"]]\n",
    "df.columns = [\"tweets\"]"
   ]
  },
  {
   "cell_type": "code",
   "execution_count": 6,
   "metadata": {},
   "outputs": [
    {
     "data": {
      "text/html": [
       "<div>\n",
       "<style scoped>\n",
       "    .dataframe tbody tr th:only-of-type {\n",
       "        vertical-align: middle;\n",
       "    }\n",
       "\n",
       "    .dataframe tbody tr th {\n",
       "        vertical-align: top;\n",
       "    }\n",
       "\n",
       "    .dataframe thead th {\n",
       "        text-align: right;\n",
       "    }\n",
       "</style>\n",
       "<table border=\"1\" class=\"dataframe\">\n",
       "  <thead>\n",
       "    <tr style=\"text-align: right;\">\n",
       "      <th></th>\n",
       "      <th>tweets</th>\n",
       "    </tr>\n",
       "  </thead>\n",
       "  <tbody>\n",
       "    <tr>\n",
       "      <th>0</th>\n",
       "      <td>lx21 made $10,008  on $AAPL -Check it out! htt...</td>\n",
       "    </tr>\n",
       "    <tr>\n",
       "      <th>1</th>\n",
       "      <td>Insanity of today weirdo massive selling. $aap...</td>\n",
       "    </tr>\n",
       "    <tr>\n",
       "      <th>2</th>\n",
       "      <td>S&amp;P100 #Stocks Performance $HD $LOW $SBUX $TGT...</td>\n",
       "    </tr>\n",
       "    <tr>\n",
       "      <th>3</th>\n",
       "      <td>$GM $TSLA: Volkswagen Pushes 2014 Record Recal...</td>\n",
       "    </tr>\n",
       "    <tr>\n",
       "      <th>4</th>\n",
       "      <td>Swing Trading: Up To 8.91% Return In 14 Days h...</td>\n",
       "    </tr>\n",
       "    <tr>\n",
       "      <th>...</th>\n",
       "      <td>...</td>\n",
       "    </tr>\n",
       "    <tr>\n",
       "      <th>3717959</th>\n",
       "      <td>That $SPY $SPX puuump in the last hour was the...</td>\n",
       "    </tr>\n",
       "    <tr>\n",
       "      <th>3717960</th>\n",
       "      <td>In 2020 I may start Tweeting out positive news...</td>\n",
       "    </tr>\n",
       "    <tr>\n",
       "      <th>3717961</th>\n",
       "      <td>Patiently Waiting for the no twitter sitter tw...</td>\n",
       "    </tr>\n",
       "    <tr>\n",
       "      <th>3717962</th>\n",
       "      <td>I don't discriminate. I own both $aapl and $ms...</td>\n",
       "    </tr>\n",
       "    <tr>\n",
       "      <th>3717963</th>\n",
       "      <td>$AAPL #patent 10,522,475 Vertical interconnect...</td>\n",
       "    </tr>\n",
       "  </tbody>\n",
       "</table>\n",
       "<p>3717964 rows × 1 columns</p>\n",
       "</div>"
      ],
      "text/plain": [
       "                                                    tweets\n",
       "0        lx21 made $10,008  on $AAPL -Check it out! htt...\n",
       "1        Insanity of today weirdo massive selling. $aap...\n",
       "2        S&P100 #Stocks Performance $HD $LOW $SBUX $TGT...\n",
       "3        $GM $TSLA: Volkswagen Pushes 2014 Record Recal...\n",
       "4        Swing Trading: Up To 8.91% Return In 14 Days h...\n",
       "...                                                    ...\n",
       "3717959  That $SPY $SPX puuump in the last hour was the...\n",
       "3717960  In 2020 I may start Tweeting out positive news...\n",
       "3717961  Patiently Waiting for the no twitter sitter tw...\n",
       "3717962  I don't discriminate. I own both $aapl and $ms...\n",
       "3717963  $AAPL #patent 10,522,475 Vertical interconnect...\n",
       "\n",
       "[3717964 rows x 1 columns]"
      ]
     },
     "execution_count": 6,
     "metadata": {},
     "output_type": "execute_result"
    }
   ],
   "source": [
    "df"
   ]
  },
  {
   "cell_type": "code",
   "execution_count": 7,
   "metadata": {},
   "outputs": [],
   "source": [
    "# create a function to clean the tweets\n",
    "def cleanTwt(twt):\n",
    "    twt = re.sub(\"#aapl\", 'aapl', twt) # removes the '#' from apple\n",
    "    twt = re.sub(\"#AAPL\", 'AAPL', twt)\n",
    "    twt = re.sub(\"#amzn\", 'amzn', twt) # removes the '#' from amazon\n",
    "    twt = re.sub(\"#AMZN\", 'AMZN', twt)\n",
    "    twt = re.sub(\"#googl\", 'googl', twt) # removes the '#' from google\n",
    "    twt = re.sub(\"#GOOGL\", 'GOOGL', twt)\n",
    "    twt = re.sub(\"#msft\", 'msft', twt) # removes the '#' from microsoft\n",
    "    twt = re.sub(\"#MSFT\", 'MSFT', twt)\n",
    "    twt = re.sub(\"#tsla\", 'tsla', twt) # removes the '#' from tesla\n",
    "    twt = re.sub(\"#TSLA\", 'TSLA', twt)\n",
    "    twt = re.sub('#[A-Za-z0-9]+', '', twt) # removes any string with a '#'\n",
    "    twt = re.sub('\\\\n', '', twt) # removes the '\\n' string\n",
    "    twt = re.sub('https:\\/\\/\\S+', '', twt) # removes any hyperlinks\n",
    "    return twt"
   ]
  },
  {
   "cell_type": "code",
   "execution_count": 8,
   "metadata": {},
   "outputs": [
    {
     "data": {
      "application/vnd.jupyter.widget-view+json": {
       "model_id": "fbc4d3be6e2644119c1aebfd717c3635",
       "version_major": 2,
       "version_minor": 0
      },
      "text/plain": [
       "VBox(children=(HBox(children=(IntProgress(value=0, description='0.00%', max=464746), Label(value='0 / 464746')…"
      ]
     },
     "metadata": {},
     "output_type": "display_data"
    },
    {
     "data": {
      "text/html": [
       "<div>\n",
       "<style scoped>\n",
       "    .dataframe tbody tr th:only-of-type {\n",
       "        vertical-align: middle;\n",
       "    }\n",
       "\n",
       "    .dataframe tbody tr th {\n",
       "        vertical-align: top;\n",
       "    }\n",
       "\n",
       "    .dataframe thead th {\n",
       "        text-align: right;\n",
       "    }\n",
       "</style>\n",
       "<table border=\"1\" class=\"dataframe\">\n",
       "  <thead>\n",
       "    <tr style=\"text-align: right;\">\n",
       "      <th></th>\n",
       "      <th>tweets</th>\n",
       "      <th>cleaned_tweets</th>\n",
       "    </tr>\n",
       "  </thead>\n",
       "  <tbody>\n",
       "    <tr>\n",
       "      <th>0</th>\n",
       "      <td>lx21 made $10,008  on $AAPL -Check it out! htt...</td>\n",
       "      <td>lx21 made $10,008  on $AAPL -Check it out! htt...</td>\n",
       "    </tr>\n",
       "    <tr>\n",
       "      <th>1</th>\n",
       "      <td>Insanity of today weirdo massive selling. $aap...</td>\n",
       "      <td>Insanity of today weirdo massive selling. $aap...</td>\n",
       "    </tr>\n",
       "    <tr>\n",
       "      <th>2</th>\n",
       "      <td>S&amp;P100 #Stocks Performance $HD $LOW $SBUX $TGT...</td>\n",
       "      <td>S&amp;P100  Performance $HD $LOW $SBUX $TGT $DVN $...</td>\n",
       "    </tr>\n",
       "    <tr>\n",
       "      <th>3</th>\n",
       "      <td>$GM $TSLA: Volkswagen Pushes 2014 Record Recal...</td>\n",
       "      <td>$GM $TSLA: Volkswagen Pushes 2014 Record Recal...</td>\n",
       "    </tr>\n",
       "    <tr>\n",
       "      <th>4</th>\n",
       "      <td>Swing Trading: Up To 8.91% Return In 14 Days h...</td>\n",
       "      <td>Swing Trading: Up To 8.91% Return In 14 Days h...</td>\n",
       "    </tr>\n",
       "    <tr>\n",
       "      <th>...</th>\n",
       "      <td>...</td>\n",
       "      <td>...</td>\n",
       "    </tr>\n",
       "    <tr>\n",
       "      <th>3717959</th>\n",
       "      <td>That $SPY $SPX puuump in the last hour was the...</td>\n",
       "      <td>That $SPY $SPX puuump in the last hour was the...</td>\n",
       "    </tr>\n",
       "    <tr>\n",
       "      <th>3717960</th>\n",
       "      <td>In 2020 I may start Tweeting out positive news...</td>\n",
       "      <td>In 2020 I may start Tweeting out positive news...</td>\n",
       "    </tr>\n",
       "    <tr>\n",
       "      <th>3717961</th>\n",
       "      <td>Patiently Waiting for the no twitter sitter tw...</td>\n",
       "      <td>Patiently Waiting for the no twitter sitter tw...</td>\n",
       "    </tr>\n",
       "    <tr>\n",
       "      <th>3717962</th>\n",
       "      <td>I don't discriminate. I own both $aapl and $ms...</td>\n",
       "      <td>I don't discriminate. I own both $aapl and $ms...</td>\n",
       "    </tr>\n",
       "    <tr>\n",
       "      <th>3717963</th>\n",
       "      <td>$AAPL #patent 10,522,475 Vertical interconnect...</td>\n",
       "      <td>$AAPL  10,522,475 Vertical interconnects for s...</td>\n",
       "    </tr>\n",
       "  </tbody>\n",
       "</table>\n",
       "<p>3717964 rows × 2 columns</p>\n",
       "</div>"
      ],
      "text/plain": [
       "                                                    tweets  \\\n",
       "0        lx21 made $10,008  on $AAPL -Check it out! htt...   \n",
       "1        Insanity of today weirdo massive selling. $aap...   \n",
       "2        S&P100 #Stocks Performance $HD $LOW $SBUX $TGT...   \n",
       "3        $GM $TSLA: Volkswagen Pushes 2014 Record Recal...   \n",
       "4        Swing Trading: Up To 8.91% Return In 14 Days h...   \n",
       "...                                                    ...   \n",
       "3717959  That $SPY $SPX puuump in the last hour was the...   \n",
       "3717960  In 2020 I may start Tweeting out positive news...   \n",
       "3717961  Patiently Waiting for the no twitter sitter tw...   \n",
       "3717962  I don't discriminate. I own both $aapl and $ms...   \n",
       "3717963  $AAPL #patent 10,522,475 Vertical interconnect...   \n",
       "\n",
       "                                            cleaned_tweets  \n",
       "0        lx21 made $10,008  on $AAPL -Check it out! htt...  \n",
       "1        Insanity of today weirdo massive selling. $aap...  \n",
       "2        S&P100  Performance $HD $LOW $SBUX $TGT $DVN $...  \n",
       "3        $GM $TSLA: Volkswagen Pushes 2014 Record Recal...  \n",
       "4        Swing Trading: Up To 8.91% Return In 14 Days h...  \n",
       "...                                                    ...  \n",
       "3717959  That $SPY $SPX puuump in the last hour was the...  \n",
       "3717960  In 2020 I may start Tweeting out positive news...  \n",
       "3717961  Patiently Waiting for the no twitter sitter tw...  \n",
       "3717962  I don't discriminate. I own both $aapl and $ms...  \n",
       "3717963  $AAPL  10,522,475 Vertical interconnects for s...  \n",
       "\n",
       "[3717964 rows x 2 columns]"
      ]
     },
     "execution_count": 8,
     "metadata": {},
     "output_type": "execute_result"
    }
   ],
   "source": [
    "df[\"cleaned_tweets\"] = df[\"tweets\"].parallel_apply(cleanTwt)\n",
    "df"
   ]
  },
  {
   "cell_type": "code",
   "execution_count": 9,
   "metadata": {},
   "outputs": [
    {
     "data": {
      "application/vnd.jupyter.widget-view+json": {
       "model_id": "947b8e47a29047a4807c790dd47499af",
       "version_major": 2,
       "version_minor": 0
      },
      "text/plain": [
       "VBox(children=(HBox(children=(IntProgress(value=0, description='0.00%', max=464746), Label(value='0 / 464746')…"
      ]
     },
     "metadata": {},
     "output_type": "display_data"
    },
    {
     "data": {
      "application/vnd.jupyter.widget-view+json": {
       "model_id": "440693d832bc4374930d64f512cf70a4",
       "version_major": 2,
       "version_minor": 0
      },
      "text/plain": [
       "VBox(children=(HBox(children=(IntProgress(value=0, description='0.00%', max=464746), Label(value='0 / 464746')…"
      ]
     },
     "metadata": {},
     "output_type": "display_data"
    }
   ],
   "source": [
    "# create a function to get subjectivity\n",
    "def getSubjectivity(twt):\n",
    "    return TextBlob(twt).sentiment.subjectivity\n",
    "\n",
    "# create a function to get the polarity\n",
    "def getPolarity(twt):\n",
    "    return TextBlob(twt).sentiment.polarity\n",
    "\n",
    "# create two new columns called \"Subjectivity\" & \"Polarity\"\n",
    "df['subjectivity'] = df['cleaned_tweets'].parallel_apply(getSubjectivity)\n",
    "df['polarity'] = df['cleaned_tweets'].parallel_apply(getPolarity)"
   ]
  },
  {
   "cell_type": "code",
   "execution_count": 10,
   "metadata": {},
   "outputs": [
    {
     "data": {
      "text/html": [
       "<div>\n",
       "<style scoped>\n",
       "    .dataframe tbody tr th:only-of-type {\n",
       "        vertical-align: middle;\n",
       "    }\n",
       "\n",
       "    .dataframe tbody tr th {\n",
       "        vertical-align: top;\n",
       "    }\n",
       "\n",
       "    .dataframe thead th {\n",
       "        text-align: right;\n",
       "    }\n",
       "</style>\n",
       "<table border=\"1\" class=\"dataframe\">\n",
       "  <thead>\n",
       "    <tr style=\"text-align: right;\">\n",
       "      <th></th>\n",
       "      <th>tweets</th>\n",
       "      <th>cleaned_tweets</th>\n",
       "      <th>subjectivity</th>\n",
       "      <th>polarity</th>\n",
       "    </tr>\n",
       "  </thead>\n",
       "  <tbody>\n",
       "    <tr>\n",
       "      <th>0</th>\n",
       "      <td>lx21 made $10,008  on $AAPL -Check it out! htt...</td>\n",
       "      <td>lx21 made $10,008  on $AAPL -Check it out! htt...</td>\n",
       "      <td>0.0</td>\n",
       "      <td>0.00</td>\n",
       "    </tr>\n",
       "    <tr>\n",
       "      <th>1</th>\n",
       "      <td>Insanity of today weirdo massive selling. $aap...</td>\n",
       "      <td>Insanity of today weirdo massive selling. $aap...</td>\n",
       "      <td>1.0</td>\n",
       "      <td>0.00</td>\n",
       "    </tr>\n",
       "    <tr>\n",
       "      <th>2</th>\n",
       "      <td>S&amp;P100 #Stocks Performance $HD $LOW $SBUX $TGT...</td>\n",
       "      <td>S&amp;P100  Performance $HD $LOW $SBUX $TGT $DVN $...</td>\n",
       "      <td>0.4</td>\n",
       "      <td>0.25</td>\n",
       "    </tr>\n",
       "    <tr>\n",
       "      <th>3</th>\n",
       "      <td>$GM $TSLA: Volkswagen Pushes 2014 Record Recal...</td>\n",
       "      <td>$GM $TSLA: Volkswagen Pushes 2014 Record Recal...</td>\n",
       "      <td>0.5</td>\n",
       "      <td>0.25</td>\n",
       "    </tr>\n",
       "    <tr>\n",
       "      <th>4</th>\n",
       "      <td>Swing Trading: Up To 8.91% Return In 14 Days h...</td>\n",
       "      <td>Swing Trading: Up To 8.91% Return In 14 Days h...</td>\n",
       "      <td>0.0</td>\n",
       "      <td>0.00</td>\n",
       "    </tr>\n",
       "  </tbody>\n",
       "</table>\n",
       "</div>"
      ],
      "text/plain": [
       "                                              tweets  \\\n",
       "0  lx21 made $10,008  on $AAPL -Check it out! htt...   \n",
       "1  Insanity of today weirdo massive selling. $aap...   \n",
       "2  S&P100 #Stocks Performance $HD $LOW $SBUX $TGT...   \n",
       "3  $GM $TSLA: Volkswagen Pushes 2014 Record Recal...   \n",
       "4  Swing Trading: Up To 8.91% Return In 14 Days h...   \n",
       "\n",
       "                                      cleaned_tweets  subjectivity  polarity  \n",
       "0  lx21 made $10,008  on $AAPL -Check it out! htt...           0.0      0.00  \n",
       "1  Insanity of today weirdo massive selling. $aap...           1.0      0.00  \n",
       "2  S&P100  Performance $HD $LOW $SBUX $TGT $DVN $...           0.4      0.25  \n",
       "3  $GM $TSLA: Volkswagen Pushes 2014 Record Recal...           0.5      0.25  \n",
       "4  Swing Trading: Up To 8.91% Return In 14 Days h...           0.0      0.00  "
      ]
     },
     "execution_count": 10,
     "metadata": {},
     "output_type": "execute_result"
    }
   ],
   "source": [
    "df.head(5)"
   ]
  },
  {
   "cell_type": "code",
   "execution_count": 11,
   "metadata": {},
   "outputs": [],
   "source": [
    "# create a function get the sentiment text\n",
    "def getSentiment(score):\n",
    "    if score < 0:\n",
    "        return \"negative\"\n",
    "    elif score == 0:\n",
    "        return \"neutral\"\n",
    "    else:\n",
    "        return \"positive\""
   ]
  },
  {
   "cell_type": "code",
   "execution_count": 12,
   "metadata": {},
   "outputs": [
    {
     "data": {
      "application/vnd.jupyter.widget-view+json": {
       "model_id": "3afecb1663194376b69ad0d5c2ddd846",
       "version_major": 2,
       "version_minor": 0
      },
      "text/plain": [
       "VBox(children=(HBox(children=(IntProgress(value=0, description='0.00%', max=464746), Label(value='0 / 464746')…"
      ]
     },
     "metadata": {},
     "output_type": "display_data"
    },
    {
     "data": {
      "text/html": [
       "<div>\n",
       "<style scoped>\n",
       "    .dataframe tbody tr th:only-of-type {\n",
       "        vertical-align: middle;\n",
       "    }\n",
       "\n",
       "    .dataframe tbody tr th {\n",
       "        vertical-align: top;\n",
       "    }\n",
       "\n",
       "    .dataframe thead th {\n",
       "        text-align: right;\n",
       "    }\n",
       "</style>\n",
       "<table border=\"1\" class=\"dataframe\">\n",
       "  <thead>\n",
       "    <tr style=\"text-align: right;\">\n",
       "      <th></th>\n",
       "      <th>tweets</th>\n",
       "      <th>cleaned_tweets</th>\n",
       "      <th>subjectivity</th>\n",
       "      <th>polarity</th>\n",
       "      <th>sentiment</th>\n",
       "    </tr>\n",
       "  </thead>\n",
       "  <tbody>\n",
       "    <tr>\n",
       "      <th>0</th>\n",
       "      <td>lx21 made $10,008  on $AAPL -Check it out! htt...</td>\n",
       "      <td>lx21 made $10,008  on $AAPL -Check it out! htt...</td>\n",
       "      <td>0.0</td>\n",
       "      <td>0.00</td>\n",
       "      <td>neutral</td>\n",
       "    </tr>\n",
       "    <tr>\n",
       "      <th>1</th>\n",
       "      <td>Insanity of today weirdo massive selling. $aap...</td>\n",
       "      <td>Insanity of today weirdo massive selling. $aap...</td>\n",
       "      <td>1.0</td>\n",
       "      <td>0.00</td>\n",
       "      <td>neutral</td>\n",
       "    </tr>\n",
       "    <tr>\n",
       "      <th>2</th>\n",
       "      <td>S&amp;P100 #Stocks Performance $HD $LOW $SBUX $TGT...</td>\n",
       "      <td>S&amp;P100  Performance $HD $LOW $SBUX $TGT $DVN $...</td>\n",
       "      <td>0.4</td>\n",
       "      <td>0.25</td>\n",
       "      <td>positive</td>\n",
       "    </tr>\n",
       "    <tr>\n",
       "      <th>3</th>\n",
       "      <td>$GM $TSLA: Volkswagen Pushes 2014 Record Recal...</td>\n",
       "      <td>$GM $TSLA: Volkswagen Pushes 2014 Record Recal...</td>\n",
       "      <td>0.5</td>\n",
       "      <td>0.25</td>\n",
       "      <td>positive</td>\n",
       "    </tr>\n",
       "    <tr>\n",
       "      <th>4</th>\n",
       "      <td>Swing Trading: Up To 8.91% Return In 14 Days h...</td>\n",
       "      <td>Swing Trading: Up To 8.91% Return In 14 Days h...</td>\n",
       "      <td>0.0</td>\n",
       "      <td>0.00</td>\n",
       "      <td>neutral</td>\n",
       "    </tr>\n",
       "  </tbody>\n",
       "</table>\n",
       "</div>"
      ],
      "text/plain": [
       "                                              tweets  \\\n",
       "0  lx21 made $10,008  on $AAPL -Check it out! htt...   \n",
       "1  Insanity of today weirdo massive selling. $aap...   \n",
       "2  S&P100 #Stocks Performance $HD $LOW $SBUX $TGT...   \n",
       "3  $GM $TSLA: Volkswagen Pushes 2014 Record Recal...   \n",
       "4  Swing Trading: Up To 8.91% Return In 14 Days h...   \n",
       "\n",
       "                                      cleaned_tweets  subjectivity  polarity  \\\n",
       "0  lx21 made $10,008  on $AAPL -Check it out! htt...           0.0      0.00   \n",
       "1  Insanity of today weirdo massive selling. $aap...           1.0      0.00   \n",
       "2  S&P100  Performance $HD $LOW $SBUX $TGT $DVN $...           0.4      0.25   \n",
       "3  $GM $TSLA: Volkswagen Pushes 2014 Record Recal...           0.5      0.25   \n",
       "4  Swing Trading: Up To 8.91% Return In 14 Days h...           0.0      0.00   \n",
       "\n",
       "  sentiment  \n",
       "0   neutral  \n",
       "1   neutral  \n",
       "2  positive  \n",
       "3  positive  \n",
       "4   neutral  "
      ]
     },
     "execution_count": 12,
     "metadata": {},
     "output_type": "execute_result"
    }
   ],
   "source": [
    "# create a column to store the text sentiment\n",
    "df['sentiment'] = df['polarity'].parallel_apply(getSentiment)\n",
    "\n",
    "# show the data\n",
    "df.head()"
   ]
  },
  {
   "cell_type": "code",
   "execution_count": 13,
   "metadata": {},
   "outputs": [
    {
     "data": {
      "image/png": "[encoded data removed]",
      "text/plain": [
       "<Figure size 1400x1000 with 1 Axes>"
      ]
     },
     "metadata": {},
     "output_type": "display_data"
    }
   ],
   "source": [
    "# create a scatter plot to show the subjectivity and the polarity\n",
    "plt.figure(figsize=(14,10))\n",
    "\n",
    "for i in range(0, 2000):\n",
    "    plt.scatter(df[\"polarity\"].iloc[[i]].values[0], df[\"subjectivity\"].iloc[[i]].values[0], color=\"Purple\")\n",
    "\n",
    "plt.title(\"Sentiment Analysis Scatter Plot\")\n",
    "plt.xlabel('polarity')\n",
    "plt.ylabel('subjectivity')\n",
    "plt.show()"
   ]
  },
  {
   "cell_type": "code",
   "execution_count": 14,
   "metadata": {},
   "outputs": [
    {
     "data": {
      "image/png": "[encoded data removed]",
      "text/plain": [
       "<Figure size 640x480 with 1 Axes>"
      ]
     },
     "metadata": {},
     "output_type": "display_data"
    }
   ],
   "source": [
    "# create a bar chart to show the cout of Positive, Neutral and Negative sentiments\n",
    "df['sentiment'].value_counts().plot(kind=\"bar\")\n",
    "plt.title(\"Sentiment Analysis Scatter Plot\")\n",
    "plt.xlabel(\"Polarity\")\n",
    "plt.ylabel(\"Subjectivity\")\n",
    "plt.show()"
   ]
  }
 ],
 "metadata": {
  "kernelspec": {
   "display_name": "adc_project",
   "language": "python",
   "name": "python3"
  },
  "language_info": {
   "codemirror_mode": {
    "name": "ipython",
    "version": 3
   },
   "file_extension": ".py",
   "mimetype": "text/x-python",
   "name": "python",
   "nbconvert_exporter": "python",
   "pygments_lexer": "ipython3",
   "version": "3.10.8"
  },
  "orig_nbformat": 4,
  "vscode": {
   "interpreter": {
    "hash": "8233c736b0a5322141fcb30cb3ddf9efe59502c4bdc8429afcc0eda579c41a45"
   }
  }
 },
 "nbformat": 4,
 "nbformat_minor": 2
}
