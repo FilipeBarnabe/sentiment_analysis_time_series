{
 "cells": [
  {
   "cell_type": "code",
   "execution_count": 1,
   "metadata": {},
   "outputs": [
    {
     "name": "stdout",
     "output_type": "stream",
     "text": [
      "Enabling notebook extension jupyter-js-widgets/extension...\n",
      "      - Validating: \u001b[32mOK\u001b[0m\n"
     ]
    }
   ],
   "source": [
    "!jupyter nbextension enable --py widgetsnbextension"
   ]
  },
  {
   "cell_type": "code",
   "execution_count": 2,
   "metadata": {},
   "outputs": [],
   "source": [
    "import pandas as pd\n",
    "from tqdm.notebook import tqdm\n",
    "import snscrape.modules.twitter as sntwitter"
   ]
  },
  {
   "cell_type": "code",
   "execution_count": 3,
   "metadata": {},
   "outputs": [],
   "source": [
    "scrapper = sntwitter.TwitterSearchScraper(\"#s&p500\")"
   ]
  },
  {
   "cell_type": "code",
   "execution_count": 4,
   "metadata": {},
   "outputs": [
    {
     "data": {
      "application/vnd.jupyter.widget-view+json": {
       "model_id": "553eb07572304d97bfc07c5f6a83f9f4",
       "version_major": 2,
       "version_minor": 0
      },
      "text/plain": [
       "  0%|          | 0/1000000000 [00:00<?, ?it/s]"
      ]
     },
     "metadata": {},
     "output_type": "display_data"
    },
    {
     "name": "stderr",
     "output_type": "stream",
     "text": [
      "Error retrieving https://api.twitter.com/2/search/adaptive.json?include_profile_interstitial_type=1&include_blocking=1&include_blocked_by=1&include_followed_by=1&include_want_retweets=1&include_mute_edge=1&include_can_dm=1&include_can_media_tag=1&skip_status=1&cards_platform=Web-12&include_cards=1&include_ext_alt_text=true&include_quote_count=true&include_reply_count=1&tweet_mode=extended&include_entities=true&include_user_entities=true&include_ext_media_color=true&include_ext_media_availability=true&send_error_codes=true&simple_quoted_tweets=true&q=%23s%26p500&tweet_search_mode=live&count=100&query_source=spelling_expansion_revert_click&cursor=scroll%3AthGAVUV0VFVBaCgKeJjofWvBwWmsC4vfvD0cAsEnEVt4H3BRWAiXoYB0RFRkFVTFQ1ARXmyAQVAAA%3D&pc=1&spelling_corrections=1&ext=mediaStats%2ChighlightedLabel: ConnectionError(MaxRetryError(\"HTTPSConnectionPool(host='api.twitter.com', port=443): Max retries exceeded with url: /2/search/adaptive.json?include_profile_interstitial_type=1&include_blocking=1&include_blocked_by=1&include_followed_by=1&include_want_retweets=1&include_mute_edge=1&include_can_dm=1&include_can_media_tag=1&skip_status=1&cards_platform=Web-12&include_cards=1&include_ext_alt_text=true&include_quote_count=true&include_reply_count=1&tweet_mode=extended&include_entities=true&include_user_entities=true&include_ext_media_color=true&include_ext_media_availability=true&send_error_codes=true&simple_quoted_tweets=true&q=%23s%26p500&tweet_search_mode=live&count=100&query_source=spelling_expansion_revert_click&cursor=scroll%3AthGAVUV0VFVBaCgKeJjofWvBwWmsC4vfvD0cAsEnEVt4H3BRWAiXoYB0RFRkFVTFQ1ARXmyAQVAAA%3D&pc=1&spelling_corrections=1&ext=mediaStats%2ChighlightedLabel (Caused by NewConnectionError('<urllib3.connection.HTTPSConnection object at 0x17cb6c580>: Failed to establish a new connection: [Errno 8] nodename nor servname provided, or not known'))\"))\n",
      "4 requests to https://api.twitter.com/2/search/adaptive.json?include_profile_interstitial_type=1&include_blocking=1&include_blocked_by=1&include_followed_by=1&include_want_retweets=1&include_mute_edge=1&include_can_dm=1&include_can_media_tag=1&skip_status=1&cards_platform=Web-12&include_cards=1&include_ext_alt_text=true&include_quote_count=true&include_reply_count=1&tweet_mode=extended&include_entities=true&include_user_entities=true&include_ext_media_color=true&include_ext_media_availability=true&send_error_codes=true&simple_quoted_tweets=true&q=%23s%26p500&tweet_search_mode=live&count=100&query_source=spelling_expansion_revert_click&cursor=scroll%3AthGAVUV0VFVBaCgKeJjofWvBwWmsC4vfvD0cAsEnEVt4H3BRWAiXoYB0RFRkFVTFQ1ARXmyAQVAAA%3D&pc=1&spelling_corrections=1&ext=mediaStats%2ChighlightedLabel failed, giving up.\n"
     ]
    },
    {
     "ename": "ScraperException",
     "evalue": "4 requests to https://api.twitter.com/2/search/adaptive.json?include_profile_interstitial_type=1&include_blocking=1&include_blocked_by=1&include_followed_by=1&include_want_retweets=1&include_mute_edge=1&include_can_dm=1&include_can_media_tag=1&skip_status=1&cards_platform=Web-12&include_cards=1&include_ext_alt_text=true&include_quote_count=true&include_reply_count=1&tweet_mode=extended&include_entities=true&include_user_entities=true&include_ext_media_color=true&include_ext_media_availability=true&send_error_codes=true&simple_quoted_tweets=true&q=%23s%26p500&tweet_search_mode=live&count=100&query_source=spelling_expansion_revert_click&cursor=scroll%3AthGAVUV0VFVBaCgKeJjofWvBwWmsC4vfvD0cAsEnEVt4H3BRWAiXoYB0RFRkFVTFQ1ARXmyAQVAAA%3D&pc=1&spelling_corrections=1&ext=mediaStats%2ChighlightedLabel failed, giving up.",
     "output_type": "error",
     "traceback": [
      "\u001b[0;31m---------------------------------------------------------------------------\u001b[0m",
      "\u001b[0;31mScraperException\u001b[0m                          Traceback (most recent call last)",
      "Cell \u001b[0;32mIn[4], line 3\u001b[0m\n\u001b[1;32m      1\u001b[0m tweets \u001b[39m=\u001b[39m []\n\u001b[1;32m      2\u001b[0m n_tweets \u001b[39m=\u001b[39m \u001b[39m1_000_000_000\u001b[39m\n\u001b[0;32m----> 3\u001b[0m \u001b[39mfor\u001b[39;00m i, tweet \u001b[39min\u001b[39;00m tqdm(\u001b[39menumerate\u001b[39m(scrapper\u001b[39m.\u001b[39mget_items()), total\u001b[39m=\u001b[39mn_tweets):\n\u001b[1;32m      4\u001b[0m     data \u001b[39m=\u001b[39m [\n\u001b[1;32m      5\u001b[0m         tweet\u001b[39m.\u001b[39mdate,\n\u001b[1;32m      6\u001b[0m         tweet\u001b[39m.\u001b[39mid,\n\u001b[0;32m   (...)\u001b[0m\n\u001b[1;32m     10\u001b[0m         tweet\u001b[39m.\u001b[39mretweetCount\n\u001b[1;32m     11\u001b[0m     ]\n\u001b[1;32m     12\u001b[0m     tweets\u001b[39m.\u001b[39mappend(data)\n",
      "File \u001b[0;32m/opt/miniconda3/envs/adc_project/lib/python3.10/site-packages/tqdm/notebook.py:259\u001b[0m, in \u001b[0;36mtqdm_notebook.__iter__\u001b[0;34m(self)\u001b[0m\n\u001b[1;32m    257\u001b[0m \u001b[39mtry\u001b[39;00m:\n\u001b[1;32m    258\u001b[0m     it \u001b[39m=\u001b[39m \u001b[39msuper\u001b[39m(tqdm_notebook, \u001b[39mself\u001b[39m)\u001b[39m.\u001b[39m\u001b[39m__iter__\u001b[39m()\n\u001b[0;32m--> 259\u001b[0m     \u001b[39mfor\u001b[39;00m obj \u001b[39min\u001b[39;00m it:\n\u001b[1;32m    260\u001b[0m         \u001b[39m# return super(tqdm...) will not catch exception\u001b[39;00m\n\u001b[1;32m    261\u001b[0m         \u001b[39myield\u001b[39;00m obj\n\u001b[1;32m    262\u001b[0m \u001b[39m# NB: except ... [ as ...] breaks IPython async KeyboardInterrupt\u001b[39;00m\n",
      "File \u001b[0;32m/opt/miniconda3/envs/adc_project/lib/python3.10/site-packages/tqdm/std.py:1195\u001b[0m, in \u001b[0;36mtqdm.__iter__\u001b[0;34m(self)\u001b[0m\n\u001b[1;32m   1192\u001b[0m time \u001b[39m=\u001b[39m \u001b[39mself\u001b[39m\u001b[39m.\u001b[39m_time\n\u001b[1;32m   1194\u001b[0m \u001b[39mtry\u001b[39;00m:\n\u001b[0;32m-> 1195\u001b[0m     \u001b[39mfor\u001b[39;00m obj \u001b[39min\u001b[39;00m iterable:\n\u001b[1;32m   1196\u001b[0m         \u001b[39myield\u001b[39;00m obj\n\u001b[1;32m   1197\u001b[0m         \u001b[39m# Update and possibly print the progressbar.\u001b[39;00m\n\u001b[1;32m   1198\u001b[0m         \u001b[39m# Note: does not call self.update(1) for speed optimisation.\u001b[39;00m\n",
      "File \u001b[0;32m/opt/miniconda3/envs/adc_project/lib/python3.10/site-packages/snscrape/modules/twitter.py:680\u001b[0m, in \u001b[0;36mTwitterSearchScraper.get_items\u001b[0;34m(self)\u001b[0m\n\u001b[1;32m    677\u001b[0m \t\u001b[39mdel\u001b[39;00m params[\u001b[39m'\u001b[39m\u001b[39mtweet_search_mode\u001b[39m\u001b[39m'\u001b[39m]\n\u001b[1;32m    678\u001b[0m \t\u001b[39mdel\u001b[39;00m paginationParams[\u001b[39m'\u001b[39m\u001b[39mtweet_search_mode\u001b[39m\u001b[39m'\u001b[39m]\n\u001b[0;32m--> 680\u001b[0m \u001b[39mfor\u001b[39;00m obj \u001b[39min\u001b[39;00m \u001b[39mself\u001b[39m\u001b[39m.\u001b[39m_iter_api_data(\u001b[39m'\u001b[39m\u001b[39mhttps://api.twitter.com/2/search/adaptive.json\u001b[39m\u001b[39m'\u001b[39m, params, paginationParams, cursor \u001b[39m=\u001b[39m \u001b[39mself\u001b[39m\u001b[39m.\u001b[39m_cursor):\n\u001b[1;32m    681\u001b[0m \t\u001b[39myield from\u001b[39;00m \u001b[39mself\u001b[39m\u001b[39m.\u001b[39m_instructions_to_tweets(obj)\n",
      "File \u001b[0;32m/opt/miniconda3/envs/adc_project/lib/python3.10/site-packages/snscrape/modules/twitter.py:369\u001b[0m, in \u001b[0;36m_TwitterAPIScraper._iter_api_data\u001b[0;34m(self, endpoint, params, paginationParams, cursor, direction)\u001b[0m\n\u001b[1;32m    367\u001b[0m \u001b[39mwhile\u001b[39;00m \u001b[39mTrue\u001b[39;00m:\n\u001b[1;32m    368\u001b[0m \t_logger\u001b[39m.\u001b[39minfo(\u001b[39mf\u001b[39m\u001b[39m'\u001b[39m\u001b[39mRetrieving scroll page \u001b[39m\u001b[39m{\u001b[39;00mcursor\u001b[39m}\u001b[39;00m\u001b[39m'\u001b[39m)\n\u001b[0;32m--> 369\u001b[0m \tobj \u001b[39m=\u001b[39m \u001b[39mself\u001b[39;49m\u001b[39m.\u001b[39;49m_get_api_data(endpoint, reqParams)\n\u001b[1;32m    370\u001b[0m \t\u001b[39myield\u001b[39;00m obj\n\u001b[1;32m    372\u001b[0m \t\u001b[39m# No data format test, just a hard and loud crash if anything's wrong :-)\u001b[39;00m\n",
      "File \u001b[0;32m/opt/miniconda3/envs/adc_project/lib/python3.10/site-packages/snscrape/modules/twitter.py:339\u001b[0m, in \u001b[0;36m_TwitterAPIScraper._get_api_data\u001b[0;34m(self, endpoint, params)\u001b[0m\n\u001b[1;32m    337\u001b[0m \u001b[39mdef\u001b[39;00m \u001b[39m_get_api_data\u001b[39m(\u001b[39mself\u001b[39m, endpoint, params):\n\u001b[1;32m    338\u001b[0m \t\u001b[39mself\u001b[39m\u001b[39m.\u001b[39m_ensure_guest_token()\n\u001b[0;32m--> 339\u001b[0m \tr \u001b[39m=\u001b[39m \u001b[39mself\u001b[39;49m\u001b[39m.\u001b[39;49m_get(endpoint, params \u001b[39m=\u001b[39;49m params, headers \u001b[39m=\u001b[39;49m \u001b[39mself\u001b[39;49m\u001b[39m.\u001b[39;49m_apiHeaders, responseOkCallback \u001b[39m=\u001b[39;49m \u001b[39mself\u001b[39;49m\u001b[39m.\u001b[39;49m_check_api_response)\n\u001b[1;32m    340\u001b[0m \t\u001b[39mtry\u001b[39;00m:\n\u001b[1;32m    341\u001b[0m \t\tobj \u001b[39m=\u001b[39m r\u001b[39m.\u001b[39mjson()\n",
      "File \u001b[0;32m/opt/miniconda3/envs/adc_project/lib/python3.10/site-packages/snscrape/base.py:216\u001b[0m, in \u001b[0;36mScraper._get\u001b[0;34m(self, *args, **kwargs)\u001b[0m\n\u001b[1;32m    215\u001b[0m \u001b[39mdef\u001b[39;00m \u001b[39m_get\u001b[39m(\u001b[39mself\u001b[39m, \u001b[39m*\u001b[39margs, \u001b[39m*\u001b[39m\u001b[39m*\u001b[39mkwargs):\n\u001b[0;32m--> 216\u001b[0m \t\u001b[39mreturn\u001b[39;00m \u001b[39mself\u001b[39;49m\u001b[39m.\u001b[39;49m_request(\u001b[39m'\u001b[39;49m\u001b[39mGET\u001b[39;49m\u001b[39m'\u001b[39;49m, \u001b[39m*\u001b[39;49margs, \u001b[39m*\u001b[39;49m\u001b[39m*\u001b[39;49mkwargs)\n",
      "File \u001b[0;32m/opt/miniconda3/envs/adc_project/lib/python3.10/site-packages/snscrape/base.py:212\u001b[0m, in \u001b[0;36mScraper._request\u001b[0;34m(self, method, url, params, data, headers, timeout, responseOkCallback, allowRedirects)\u001b[0m\n\u001b[1;32m    210\u001b[0m \tmsg \u001b[39m=\u001b[39m \u001b[39mf\u001b[39m\u001b[39m'\u001b[39m\u001b[39m{\u001b[39;00m\u001b[39mself\u001b[39m\u001b[39m.\u001b[39m_retries \u001b[39m+\u001b[39m \u001b[39m1\u001b[39m\u001b[39m}\u001b[39;00m\u001b[39m requests to \u001b[39m\u001b[39m{\u001b[39;00mreq\u001b[39m.\u001b[39murl\u001b[39m}\u001b[39;00m\u001b[39m failed, giving up.\u001b[39m\u001b[39m'\u001b[39m\n\u001b[1;32m    211\u001b[0m \tlogger\u001b[39m.\u001b[39mfatal(msg)\n\u001b[0;32m--> 212\u001b[0m \t\u001b[39mraise\u001b[39;00m ScraperException(msg)\n\u001b[1;32m    213\u001b[0m \u001b[39mraise\u001b[39;00m \u001b[39mRuntimeError\u001b[39;00m(\u001b[39m'\u001b[39m\u001b[39mReached unreachable code\u001b[39m\u001b[39m'\u001b[39m)\n",
      "\u001b[0;31mScraperException\u001b[0m: 4 requests to https://api.twitter.com/2/search/adaptive.json?include_profile_interstitial_type=1&include_blocking=1&include_blocked_by=1&include_followed_by=1&include_want_retweets=1&include_mute_edge=1&include_can_dm=1&include_can_media_tag=1&skip_status=1&cards_platform=Web-12&include_cards=1&include_ext_alt_text=true&include_quote_count=true&include_reply_count=1&tweet_mode=extended&include_entities=true&include_user_entities=true&include_ext_media_color=true&include_ext_media_availability=true&send_error_codes=true&simple_quoted_tweets=true&q=%23s%26p500&tweet_search_mode=live&count=100&query_source=spelling_expansion_revert_click&cursor=scroll%3AthGAVUV0VFVBaCgKeJjofWvBwWmsC4vfvD0cAsEnEVt4H3BRWAiXoYB0RFRkFVTFQ1ARXmyAQVAAA%3D&pc=1&spelling_corrections=1&ext=mediaStats%2ChighlightedLabel failed, giving up."
     ]
    }
   ],
   "source": [
    "tweets = []\n",
    "n_tweets = 1_000_000_000\n",
    "for i, tweet in tqdm(enumerate(scrapper.get_items()), total=n_tweets):\n",
    "    data = [\n",
    "        tweet.date,\n",
    "        tweet.id,\n",
    "        tweet.content,\n",
    "        tweet.user.username,\n",
    "        tweet.likeCount,\n",
    "        tweet.retweetCount\n",
    "    ]\n",
    "    tweets.append(data)\n",
    "    if i > n_tweets:\n",
    "        break"
   ]
  },
  {
   "cell_type": "code",
   "execution_count": 5,
   "metadata": {},
   "outputs": [
    {
     "data": {
      "text/html": [
       "<div>\n",
       "<style scoped>\n",
       "    .dataframe tbody tr th:only-of-type {\n",
       "        vertical-align: middle;\n",
       "    }\n",
       "\n",
       "    .dataframe tbody tr th {\n",
       "        vertical-align: top;\n",
       "    }\n",
       "\n",
       "    .dataframe thead th {\n",
       "        text-align: right;\n",
       "    }\n",
       "</style>\n",
       "<table border=\"1\" class=\"dataframe\">\n",
       "  <thead>\n",
       "    <tr style=\"text-align: right;\">\n",
       "      <th></th>\n",
       "      <th>Date</th>\n",
       "      <th>Id</th>\n",
       "      <th>Content</th>\n",
       "      <th>User</th>\n",
       "      <th>Likes</th>\n",
       "      <th>Retweets</th>\n",
       "    </tr>\n",
       "  </thead>\n",
       "  <tbody>\n",
       "    <tr>\n",
       "      <th>0</th>\n",
       "      <td>2022-12-15 18:43:29+00:00</td>\n",
       "      <td>1603460755852038157</td>\n",
       "      <td>Finviz karta över S&amp;amp;P500 https://t.co/N9be...</td>\n",
       "      <td>compoundder</td>\n",
       "      <td>0</td>\n",
       "      <td>0</td>\n",
       "    </tr>\n",
       "    <tr>\n",
       "      <th>1</th>\n",
       "      <td>2022-12-15 18:36:00+00:00</td>\n",
       "      <td>1603458872756535296</td>\n",
       "      <td>I think we could see S&amp;amp;P500 at 3,000 somet...</td>\n",
       "      <td>venturefounder</td>\n",
       "      <td>8</td>\n",
       "      <td>0</td>\n",
       "    </tr>\n",
       "    <tr>\n",
       "      <th>2</th>\n",
       "      <td>2022-12-15 18:31:16+00:00</td>\n",
       "      <td>1603457679665508352</td>\n",
       "      <td>@lavern_spicer @elonmusk That TSLA and the S&amp;a...</td>\n",
       "      <td>RichardHornos11</td>\n",
       "      <td>0</td>\n",
       "      <td>0</td>\n",
       "    </tr>\n",
       "    <tr>\n",
       "      <th>3</th>\n",
       "      <td>2022-12-15 18:30:57+00:00</td>\n",
       "      <td>1603457600271667200</td>\n",
       "      <td>#米国株\\n米国株、ダウ続落で始まる 米利上げ減速観測がやや後退 - 日本経済新聞\\nダウ平...</td>\n",
       "      <td>USStockCryptoN2</td>\n",
       "      <td>0</td>\n",
       "      <td>0</td>\n",
       "    </tr>\n",
       "    <tr>\n",
       "      <th>4</th>\n",
       "      <td>2022-12-15 18:30:33+00:00</td>\n",
       "      <td>1603457501344763904</td>\n",
       "      <td>S&amp;amp;P500 https://t.co/PxgJPeizP0</td>\n",
       "      <td>mr01_x</td>\n",
       "      <td>0</td>\n",
       "      <td>0</td>\n",
       "    </tr>\n",
       "    <tr>\n",
       "      <th>...</th>\n",
       "      <td>...</td>\n",
       "      <td>...</td>\n",
       "      <td>...</td>\n",
       "      <td>...</td>\n",
       "      <td>...</td>\n",
       "      <td>...</td>\n",
       "    </tr>\n",
       "    <tr>\n",
       "      <th>721777</th>\n",
       "      <td>2018-08-05 01:01:30+00:00</td>\n",
       "      <td>1025909627236409344</td>\n",
       "      <td>「Ｓ＆Ｐ５００の年初来上昇率は７月２６日時点で約７％。このうちアマゾン、マイクロソフト、アル...</td>\n",
       "      <td>NelFreire</td>\n",
       "      <td>0</td>\n",
       "      <td>0</td>\n",
       "    </tr>\n",
       "    <tr>\n",
       "      <th>721778</th>\n",
       "      <td>2018-08-05 00:48:27+00:00</td>\n",
       "      <td>1025906342265901056</td>\n",
       "      <td>@realDonaldTrump By \"market\", do you mean the ...</td>\n",
       "      <td>DanielBrockman</td>\n",
       "      <td>0</td>\n",
       "      <td>0</td>\n",
       "    </tr>\n",
       "    <tr>\n",
       "      <th>721779</th>\n",
       "      <td>2018-08-05 00:23:48+00:00</td>\n",
       "      <td>1025900142430314496</td>\n",
       "      <td>私の海外ETFのポートフォリオの過去12ヶ月のリターンになります。\\n\\nうす線が S&amp;am...</td>\n",
       "      <td>yossy_etf</td>\n",
       "      <td>1</td>\n",
       "      <td>0</td>\n",
       "    </tr>\n",
       "    <tr>\n",
       "      <th>721780</th>\n",
       "      <td>2018-08-04 23:55:03+00:00</td>\n",
       "      <td>1025892906140409858</td>\n",
       "      <td>ICYMI: After reaching parity in April, one mon...</td>\n",
       "      <td>DriehausCapital</td>\n",
       "      <td>19</td>\n",
       "      <td>5</td>\n",
       "    </tr>\n",
       "    <tr>\n",
       "      <th>721781</th>\n",
       "      <td>2018-08-04 23:19:52+00:00</td>\n",
       "      <td>1025884053281497089</td>\n",
       "      <td>ブログ更新しました。  積立投信状況-0805（楽天VT、楽天VTI、s＆p500） htt...</td>\n",
       "      <td>twocdad</td>\n",
       "      <td>0</td>\n",
       "      <td>0</td>\n",
       "    </tr>\n",
       "  </tbody>\n",
       "</table>\n",
       "<p>721782 rows × 6 columns</p>\n",
       "</div>"
      ],
      "text/plain": [
       "                            Date                   Id  \\\n",
       "0      2022-12-15 18:43:29+00:00  1603460755852038157   \n",
       "1      2022-12-15 18:36:00+00:00  1603458872756535296   \n",
       "2      2022-12-15 18:31:16+00:00  1603457679665508352   \n",
       "3      2022-12-15 18:30:57+00:00  1603457600271667200   \n",
       "4      2022-12-15 18:30:33+00:00  1603457501344763904   \n",
       "...                          ...                  ...   \n",
       "721777 2018-08-05 01:01:30+00:00  1025909627236409344   \n",
       "721778 2018-08-05 00:48:27+00:00  1025906342265901056   \n",
       "721779 2018-08-05 00:23:48+00:00  1025900142430314496   \n",
       "721780 2018-08-04 23:55:03+00:00  1025892906140409858   \n",
       "721781 2018-08-04 23:19:52+00:00  1025884053281497089   \n",
       "\n",
       "                                                  Content             User  \\\n",
       "0       Finviz karta över S&amp;P500 https://t.co/N9be...      compoundder   \n",
       "1       I think we could see S&amp;P500 at 3,000 somet...   venturefounder   \n",
       "2       @lavern_spicer @elonmusk That TSLA and the S&a...  RichardHornos11   \n",
       "3       #米国株\\n米国株、ダウ続落で始まる 米利上げ減速観測がやや後退 - 日本経済新聞\\nダウ平...  USStockCryptoN2   \n",
       "4                      S&amp;P500 https://t.co/PxgJPeizP0           mr01_x   \n",
       "...                                                   ...              ...   \n",
       "721777  「Ｓ＆Ｐ５００の年初来上昇率は７月２６日時点で約７％。このうちアマゾン、マイクロソフト、アル...        NelFreire   \n",
       "721778  @realDonaldTrump By \"market\", do you mean the ...   DanielBrockman   \n",
       "721779  私の海外ETFのポートフォリオの過去12ヶ月のリターンになります。\\n\\nうす線が S&am...        yossy_etf   \n",
       "721780  ICYMI: After reaching parity in April, one mon...  DriehausCapital   \n",
       "721781  ブログ更新しました。  積立投信状況-0805（楽天VT、楽天VTI、s＆p500） htt...          twocdad   \n",
       "\n",
       "        Likes  Retweets  \n",
       "0           0         0  \n",
       "1           8         0  \n",
       "2           0         0  \n",
       "3           0         0  \n",
       "4           0         0  \n",
       "...       ...       ...  \n",
       "721777      0         0  \n",
       "721778      0         0  \n",
       "721779      1         0  \n",
       "721780     19         5  \n",
       "721781      0         0  \n",
       "\n",
       "[721782 rows x 6 columns]"
      ]
     },
     "execution_count": 5,
     "metadata": {},
     "output_type": "execute_result"
    }
   ],
   "source": [
    "tweet_df = pd.DataFrame(tweets, columns=[\"Date\", \"Id\", \"Content\", \"User\", \"Likes\", \"Retweets\"])\n",
    "tweet_df"
   ]
  },
  {
   "cell_type": "code",
   "execution_count": null,
   "metadata": {},
   "outputs": [],
   "source": []
  }
 ],
 "metadata": {
  "kernelspec": {
   "display_name": "adc_project",
   "language": "python",
   "name": "python3"
  },
  "language_info": {
   "codemirror_mode": {
    "name": "ipython",
    "version": 3
   },
   "file_extension": ".py",
   "mimetype": "text/x-python",
   "name": "python",
   "nbconvert_exporter": "python",
   "pygments_lexer": "ipython3",
   "version": "3.10.8"
  },
  "orig_nbformat": 4,
  "vscode": {
   "interpreter": {
    "hash": "8233c736b0a5322141fcb30cb3ddf9efe59502c4bdc8429afcc0eda579c41a45"
   }
  }
 },
 "nbformat": 4,
 "nbformat_minor": 2
}
